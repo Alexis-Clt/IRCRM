{
 "cells": [
  {
   "cell_type": "markdown",
   "id": "3e5bcfd1",
   "metadata": {},
   "source": [
    "<h1 style=\"font-family:Impact,Arial;font-size:30px;\">37004 Interest Rates and Credit Risk Models - Spring 2024</h1>\n",
    "<h1 style=\"font-family:Impact,Arial;font-size:45px;\">Assignment Part 1</h1>\n",
    "<h2 style=\"font-family:Arial;\">Erik Schl&ouml;gl</h2>\n",
    "<p><small> School of Mathematical &amp; Physical Sciences<br>\n",
    "University of Technology Sydney\n",
    "</small></p>\n",
    "<p>\n",
    "<a href=\"mailto:Erik.Schlogl@uts.edu.au?Subject=37000 JIT\" target=\"_blank\">\n",
    "<small><font color=MediumVioletRed>Erik.Schlogl@uts.edu.au</font></small></a>\n",
    "</p>\n",
    "<hr style=\"height:5px;border:none;color:#333;background-color:#333;\" />"
   ]
  },
  {
   "cell_type": "markdown",
   "id": "5a193aa3",
   "metadata": {},
   "source": [
    "Execute the following cell for a `pandas` DataFrame of Australian interest rate data on 11 August 2023:"
   ]
  },
  {
   "cell_type": "code",
   "execution_count": 213,
   "id": "654dc620",
   "metadata": {},
   "outputs": [
    {
     "data": {
      "text/html": [
       "<div>\n",
       "<style scoped>\n",
       "    .dataframe tbody tr th:only-of-type {\n",
       "        vertical-align: middle;\n",
       "    }\n",
       "\n",
       "    .dataframe tbody tr th {\n",
       "        vertical-align: top;\n",
       "    }\n",
       "\n",
       "    .dataframe thead th {\n",
       "        text-align: right;\n",
       "    }\n",
       "</style>\n",
       "<table border=\"1\" class=\"dataframe\">\n",
       "  <thead>\n",
       "    <tr style=\"text-align: right;\">\n",
       "      <th></th>\n",
       "      <th>Type</th>\n",
       "      <th>Term</th>\n",
       "      <th>Rate</th>\n",
       "    </tr>\n",
       "  </thead>\n",
       "  <tbody>\n",
       "    <tr>\n",
       "      <th>0</th>\n",
       "      <td>BBSW</td>\n",
       "      <td>1 month</td>\n",
       "      <td>4.06</td>\n",
       "    </tr>\n",
       "    <tr>\n",
       "      <th>1</th>\n",
       "      <td>BBSW</td>\n",
       "      <td>3 months</td>\n",
       "      <td>4.17</td>\n",
       "    </tr>\n",
       "    <tr>\n",
       "      <th>2</th>\n",
       "      <td>BBSW</td>\n",
       "      <td>6 months</td>\n",
       "      <td>4.50</td>\n",
       "    </tr>\n",
       "    <tr>\n",
       "      <th>3</th>\n",
       "      <td>Swap</td>\n",
       "      <td>1 year</td>\n",
       "      <td>4.29</td>\n",
       "    </tr>\n",
       "    <tr>\n",
       "      <th>4</th>\n",
       "      <td>Swap</td>\n",
       "      <td>3 years</td>\n",
       "      <td>4.06</td>\n",
       "    </tr>\n",
       "    <tr>\n",
       "      <th>5</th>\n",
       "      <td>Swap</td>\n",
       "      <td>5 years</td>\n",
       "      <td>4.20</td>\n",
       "    </tr>\n",
       "    <tr>\n",
       "      <th>6</th>\n",
       "      <td>Swap</td>\n",
       "      <td>10 years</td>\n",
       "      <td>4.45</td>\n",
       "    </tr>\n",
       "    <tr>\n",
       "      <th>7</th>\n",
       "      <td>Swap</td>\n",
       "      <td>15 years</td>\n",
       "      <td>4.58</td>\n",
       "    </tr>\n",
       "  </tbody>\n",
       "</table>\n",
       "</div>"
      ],
      "text/plain": [
       "   Type      Term  Rate\n",
       "0  BBSW   1 month  4.06\n",
       "1  BBSW  3 months  4.17\n",
       "2  BBSW  6 months  4.50\n",
       "3  Swap    1 year  4.29\n",
       "4  Swap   3 years  4.06\n",
       "5  Swap   5 years  4.20\n",
       "6  Swap  10 years  4.45\n",
       "7  Swap  15 years  4.58"
      ]
     },
     "execution_count": 213,
     "metadata": {},
     "output_type": "execute_result"
    }
   ],
   "source": [
    "import pandas as pd\n",
    "\n",
    "df = pd.DataFrame(\n",
    "    [\n",
    "        {\"Type\": \"BBSW\", \"Term\": \"1 month\", \"Rate\": 4.06},\n",
    "        {\"Type\": \"BBSW\", \"Term\": \"3 months\", \"Rate\": 4.17},\n",
    "        {\"Type\": \"BBSW\", \"Term\": \"6 months\", \"Rate\": 4.50},\n",
    "        {\"Type\": \"Swap\", \"Term\": \"1 year\", \"Rate\": 4.29},\n",
    "        {\"Type\": \"Swap\", \"Term\": \"3 years\", \"Rate\": 4.06},\n",
    "        {\"Type\": \"Swap\", \"Term\": \"5 years\", \"Rate\": 4.20},\n",
    "        {\"Type\": \"Swap\", \"Term\": \"10 years\", \"Rate\": 4.45},\n",
    "        {\"Type\": \"Swap\", \"Term\": \"15 years\", \"Rate\": 4.58},\n",
    "    ]\n",
    ")\n",
    "df"
   ]
  },
  {
   "cell_type": "markdown",
   "id": "a873acdc",
   "metadata": {},
   "source": [
    "Note that the bank bill swap rate (BBSW) is quoted per annum with simple compounding, and \"Swaps are quoted on a quarterly basis for maturities out to 3 years and on a semi-annual basis for maturities 4 years and greater.\" AFMA (2023), Interest Rate Derivative Conventions (see https://afma.com.au/getattachment/Standards/Market-Conventions/Sections/Content/Interest-Rate-Derivative-Conventions-2023-07.pdf?lang=en-AU )"
   ]
  },
  {
   "cell_type": "markdown",
   "id": "1ef373c1",
   "metadata": {},
   "source": [
    "<H2>Task 1:</H2>\n",
    "Determine the term structure of zero coupon bond prices that these rates imply, using loglinear interpolation where necessary. <I>(4 marks)</I>"
   ]
  },
  {
   "cell_type": "code",
   "execution_count": 214,
   "id": "899b32f6",
   "metadata": {},
   "outputs": [],
   "source": [
    "import numpy as np  # 1.26.4\n",
    "import scipy as sp  # 1.14.1\n",
    "import matplotlib.pyplot as plt  # 3.9.2"
   ]
  },
  {
   "cell_type": "markdown",
   "id": "9426cb69",
   "metadata": {},
   "source": [
    "We suppose that the term structure we are looking for is discrete, giving the ZCB prices for maturities 1m, 3m, 6m, then every 3m between 9m and 3y, then every 6m between 3y and 15y. We start by using BBSW rates to find the 1m, 3m, 6m maturities and then we use the swap yields and loglinear interpolation to find the quarterly maturities ZCB prices up to 15y."
   ]
  },
  {
   "cell_type": "code",
   "execution_count": 215,
   "id": "325e6e90",
   "metadata": {},
   "outputs": [
    {
     "data": {
      "text/plain": [
       "[0.9966280750128732, 0.9896825593190985, 0.9779951100244499]"
      ]
     },
     "execution_count": 215,
     "metadata": {},
     "output_type": "execute_result"
    }
   ],
   "source": [
    "# Finding the 1m, 3m, 6m maturities\n",
    "df[\"Maturity\"] = df[\"Term\"].str[0].astype(np.int16)\n",
    "df_bbsw = df[df[\"Type\"] == \"BBSW\"].reset_index(drop=True)\n",
    "df_swap = df[df[\"Type\"] == \"Swap\"].reset_index(drop=True)\n",
    "\n",
    "# Result Vector\n",
    "ZCBs = []\n",
    "\n",
    "for row in df_bbsw.iterrows():\n",
    "    mat = row[1].iloc[3] / 12\n",
    "    rate = row[1].iloc[2] / 100\n",
    "    ZCBs.append((1 + (mat) * rate) ** (-1))\n",
    "\n",
    "ZCBs"
   ]
  },
  {
   "cell_type": "markdown",
   "id": "f5a98cfe",
   "metadata": {},
   "source": [
    "The two equations we need to find the ZCB prices using the swap are :\n",
    "\n",
    "$$(1 - B(T_1,T_n)) = \\ell (T_1, \\mathbb{T}) \\sum_{i=2}^{n} (T_i - T_{i-1})B(T_1, T_i)\\tag{1}$$\n",
    "\n",
    "$$\\ln{B(t,T_i)} = \\ln{B(t,T_1)} + \\frac{T_i-T_1}{T_2-T_1}\\ln(\\frac{B(t,T_2)}{B(t,T_1)}) \\tag{2}$$\n",
    "\n",
    "We will proceed by intervals between available swap rates maturities."
   ]
  },
  {
   "cell_type": "code",
   "execution_count": 216,
   "id": "72557788",
   "metadata": {},
   "outputs": [
    {
     "data": {
      "text/plain": [
       "[0.9966280750128732,\n",
       " 0.9896825593190985,\n",
       " 0.9779951100244499,\n",
       " 0.9680656790940592,\n",
       " 0.9582370601182385]"
      ]
     },
     "execution_count": 216,
     "metadata": {},
     "output_type": "execute_result"
    }
   ],
   "source": [
    "# 9m and 1Y maturities\n",
    "l = df_swap.iloc[0, 2] / 100\n",
    "\n",
    "\n",
    "def f(x):\n",
    "    a = ZCBs[1]\n",
    "    b = ZCBs[2]\n",
    "    res1 = (l / 4) * (a + b + x[0] + x[1]) - 1 + x[1]\n",
    "    res2 = np.log(b) + (1 / 2) * np.log(x[1] / b) - np.log(x[0])\n",
    "    return [res1, res2]\n",
    "\n",
    "\n",
    "result = sp.optimize.fsolve(f, [1, 1])\n",
    "ZCBs.append(result[0])\n",
    "ZCBs.append(result[1])\n",
    "\n",
    "ZCBs"
   ]
  },
  {
   "cell_type": "code",
   "execution_count": 217,
   "id": "f549e3f3",
   "metadata": {},
   "outputs": [],
   "source": [
    "# Generic function to interpolate between two swap maturities using fsolve\n",
    "def interp(x, ZCBs, l, freq):\n",
    "    # We have n2 unknown\n",
    "    n1 = len(ZCBs)\n",
    "    n2 = len(x)\n",
    "\n",
    "    result = []\n",
    "\n",
    "    # First equation using the swap yield identity\n",
    "    temp = 1 - x[-1]\n",
    "    for i in range(n1):\n",
    "        temp = temp - (l / freq) * ZCBs[i]\n",
    "    for i in range(n2):\n",
    "        temp = temp - (l / freq) * x[i]\n",
    "\n",
    "    result.append(temp)\n",
    "\n",
    "    # n2 - 1 remaining equations using loglinear interpolation\n",
    "    for i in range(n2 - 1):\n",
    "        result.append(\n",
    "            np.log(ZCBs[-1]) + ((i + 1) / n2) * np.log(x[-1] / ZCBs[-1]) - np.log(x[i])\n",
    "        )\n",
    "\n",
    "    return result\n",
    "\n",
    "\n",
    "def interpolate_between(zcbs):\n",
    "    result = [zcbs[0]]\n",
    "    for i in range(len(zcbs) - 1):\n",
    "        temp = np.exp(np.log(zcbs[i]) + 0.5 * np.log(zcbs[i + 1] / zcbs[i]))\n",
    "        result.append(temp)\n",
    "        result.append(zcbs[i + 1])\n",
    "    return result[1:]"
   ]
  },
  {
   "cell_type": "code",
   "execution_count": 218,
   "id": "e549823b",
   "metadata": {},
   "outputs": [
    {
     "data": {
      "text/plain": [
       "[0.9488953422690587,\n",
       " 0.9396446957526028,\n",
       " 0.9304842321848268,\n",
       " 0.9214130727795125,\n",
       " 0.9124303468821778,\n",
       " 0.9035351922857662,\n",
       " 0.8947267552945117,\n",
       " 0.8860041904994865]"
      ]
     },
     "execution_count": 218,
     "metadata": {},
     "output_type": "execute_result"
    }
   ],
   "source": [
    "# From 1Y to 3Y\n",
    "l1 = list(\n",
    "    sp.optimize.fsolve(interp, [0.9] * 8, (ZCBs[1:], df_swap.iloc[1, 2] / 100, 4))\n",
    ")\n",
    "ZCBs = ZCBs + l1\n",
    "\n",
    "l1"
   ]
  },
  {
   "cell_type": "code",
   "execution_count": 219,
   "id": "347ec029",
   "metadata": {},
   "outputs": [
    {
     "data": {
      "text/plain": [
       "[0.8669392272917921, 0.848284502404901, 0.8300311882279903, 0.8121706473779828]"
      ]
     },
     "execution_count": 219,
     "metadata": {},
     "output_type": "execute_result"
    }
   ],
   "source": [
    "# From 3Y to 5Y\n",
    "temp_ZCBs = ZCBs[2::2]\n",
    "l2 = list(\n",
    "    sp.optimize.fsolve(interp, [0.9] * 4, (temp_ZCBs, df_swap.iloc[2, 2] / 100, 2))\n",
    ")\n",
    "ZCBs = ZCBs + l2\n",
    "\n",
    "l2"
   ]
  },
  {
   "cell_type": "code",
   "execution_count": 220,
   "id": "9f6ea7b0",
   "metadata": {},
   "outputs": [
    {
     "data": {
      "text/plain": [
       "[0.7932800684719228,\n",
       " 0.7748288725630121,\n",
       " 0.7568068398851961,\n",
       " 0.7392039883509625,\n",
       " 0.7220105680396531,\n",
       " 0.7052170558877149,\n",
       " 0.6888141504024506,\n",
       " 0.6727927662350047,\n",
       " 0.6571440289699444,\n",
       " 0.6418592719306422]"
      ]
     },
     "execution_count": 220,
     "metadata": {},
     "output_type": "execute_result"
    }
   ],
   "source": [
    "# From 5Y to 10Y\n",
    "l3 = list(\n",
    "    sp.optimize.fsolve(\n",
    "        interp, [0.8] * 10, (temp_ZCBs + l2, df_swap.iloc[3, 2] / 100, 2)\n",
    "    )\n",
    ")\n",
    "ZCBs = ZCBs + l3\n",
    "\n",
    "l3"
   ]
  },
  {
   "cell_type": "code",
   "execution_count": 221,
   "id": "399887b0",
   "metadata": {},
   "outputs": [
    {
     "data": {
      "text/plain": [
       "[0.6263507328556114,\n",
       " 0.6112169095012647,\n",
       " 0.5964487480740318,\n",
       " 0.5820374134763482,\n",
       " 0.5679742841397424,\n",
       " 0.554250946719517,\n",
       " 0.5408591909775663,\n",
       " 0.527791005470973,\n",
       " 0.5150385730627179,\n",
       " 0.502594262478548]"
      ]
     },
     "execution_count": 221,
     "metadata": {},
     "output_type": "execute_result"
    }
   ],
   "source": [
    "# From 10Y to 15Y\n",
    "l4 = list(\n",
    "    sp.optimize.fsolve(\n",
    "        interp, [0.6] * 10, (temp_ZCBs + l2 + l3, df_swap.iloc[4, 2] / 100, 2)\n",
    "    )\n",
    ")\n",
    "ZCBs = ZCBs + l4\n",
    "\n",
    "l4"
   ]
  },
  {
   "cell_type": "code",
   "execution_count": 222,
   "id": "b9e9d754",
   "metadata": {},
   "outputs": [
    {
     "data": {
      "image/png": "[encoded data removed]",
      "text/plain": [
       "<Figure size 640x480 with 1 Axes>"
      ]
     },
     "metadata": {},
     "output_type": "display_data"
    }
   ],
   "source": [
    "# interpolating every 3m from 3Y to 15Y\n",
    "maturities = [1 / 12] + [0.25 * (i + 1) for i in range(60)]\n",
    "temp = interpolate_between(ZCBs[12:])\n",
    "ZCBs = ZCBs[:13] + temp\n",
    "\n",
    "plt.plot(maturities, ZCBs, \".\")\n",
    "plt.show()"
   ]
  },
  {
   "cell_type": "markdown",
   "id": "6f2b4196",
   "metadata": {},
   "source": [
    "<H2>Task 2:</H2>\n",
    "Find the coefficients of a \"maximum smoothness\" term structure (as defined on Slides 34 to 36 of Lecture 1b) fitting the BBSW and swap rates given above. <I>(10 marks)</I>"
   ]
  },
  {
   "cell_type": "code",
   "execution_count": 223,
   "id": "72b3e2e3",
   "metadata": {},
   "outputs": [],
   "source": [
    "# x is the time we want to find the forward rate at, c, b, a are splines coefficients vectors\n",
    "# t is the vector of maturities giving the times when splines change\n",
    "def f(x, c, b, a, t):\n",
    "    if x == 0:\n",
    "        return a[0]\n",
    "    if (x > t[-1]) or (x < 0):\n",
    "        return 0\n",
    "    for i in range(len(t) - 1):\n",
    "        if (x > t[i]) and (x <= t[i + 1]):\n",
    "            return a[i] + (b[i] * x) + (c[i] * (x**4))"
   ]
  },
  {
   "cell_type": "code",
   "execution_count": 224,
   "id": "0acf9bec",
   "metadata": {},
   "outputs": [],
   "source": [
    "# Find the discount factor maturing at T=x using the c, b, a coeeficients vectors\n",
    "# t is the vector of maturities giving the times when splines change\n",
    "def integrate_ZCB(x, c, b, a, t):\n",
    "    result = 0\n",
    "    if x <= 0:\n",
    "        return result\n",
    "    for i in range(len(t) - 1):\n",
    "        if (x > t[i]) and (x <= t[i + 1]):\n",
    "            result = (\n",
    "                result\n",
    "                + ((a[i] * x) + (0.5 * b[i] * (x**2)) + (0.2 * c[i] * (x**5)))\n",
    "                - (\n",
    "                    (a[i] * t[i])\n",
    "                    + (0.5 * b[i] * (t[i] ** 2))\n",
    "                    + (0.2 * c[i] * (t[i] ** 5))\n",
    "                )\n",
    "            )\n",
    "            break\n",
    "        else:\n",
    "            result = (\n",
    "                result\n",
    "                + (\n",
    "                    (a[i] * t[i + 1])\n",
    "                    + (0.5 * b[i] * (t[i + 1] ** 2))\n",
    "                    + (0.2 * c[i] * (t[i + 1] ** 5))\n",
    "                )\n",
    "                - (\n",
    "                    (a[i] * t[i])\n",
    "                    + (0.5 * b[i] * (t[i] ** 2))\n",
    "                    + (0.2 * c[i] * (t[i] ** 5))\n",
    "                )\n",
    "            )\n",
    "\n",
    "    return result"
   ]
  },
  {
   "cell_type": "code",
   "execution_count": 225,
   "id": "92def41b",
   "metadata": {},
   "outputs": [],
   "source": [
    "# This function takes three parameters:\n",
    "# t : the vector of available maturities in the market\n",
    "# ZCBs : the vector of the ZCB prices corresponding to the n=len(ZCBs) first maturities\n",
    "# swaps : the vector of swap rates corresponding to the m-n=len(swaps) remaining maturities\n",
    "def spline_4th_order(t, ZCBs, swaps):\n",
    "\n",
    "    # Checking that the number of maturities match\n",
    "    if len(t) != (len(ZCBs) + len(swaps)):\n",
    "        raise ValueError(\n",
    "            \"Sum of length of arrays ZCBs and swaps must match length of array t\"\n",
    "        )\n",
    "\n",
    "    n = len(ZCBs)\n",
    "    m = len(t)\n",
    "\n",
    "    # This is the function we are going to use fsolve on to find all the coefficients of the splines\n",
    "    def tointerp(x, ZCBs, t, swaps):\n",
    "        # Separating the coefficients in vectors named using the convention on page 34 of lecture 1b\n",
    "        c = x[0:m]\n",
    "        b = x[m : 2 * m]\n",
    "        a = x[2 * m :]\n",
    "\n",
    "        result = []\n",
    "\n",
    "        # region easy conditions\n",
    "\n",
    "        for i in range(m - 1):\n",
    "            result.append(\n",
    "                (c[i] * (t[i + 1] ** 4))\n",
    "                + (b[i] * t[i + 1])\n",
    "                + a[i]\n",
    "                - (c[i + 1] * (t[i + 1] ** 4))\n",
    "                - (b[i + 1] * t[i + 1])\n",
    "                - a[i + 1]\n",
    "            )\n",
    "            result.append(\n",
    "                (4 * c[i] * (t[i + 1] ** 3))\n",
    "                + b[i]\n",
    "                - (4 * c[i + 1] * (t[i + 1] ** 3))\n",
    "                - b[i + 1]\n",
    "            )\n",
    "            if i < n:\n",
    "\n",
    "                result.append(\n",
    "                    (0.2 * c[i] * ((t[i + 1] ** 5) - (t[i] ** 5)))\n",
    "                    + (0.5 * b[i] * ((t[i + 1] ** 2) - (t[i] ** 2)))\n",
    "                    + (a[i] * (t[i + 1] - t[i]))\n",
    "                    + np.log(ZCBs[i + 1] / ZCBs[i])\n",
    "                )\n",
    "\n",
    "        result.append(b[-1])\n",
    "        result.append(a[0] - df_bbsw[\"Rate\"].iloc[0] / 100)\n",
    "\n",
    "        # endregion\n",
    "\n",
    "        # region remaining m-n conditions using the fixed point\n",
    "\n",
    "        # frequencies is used to store maturities of discount factors every 3m\n",
    "        frequencies = np.cumsum([0] + [0.25] * (4 * t[-1]))\n",
    "\n",
    "        temp_maturities = t[len(ZCBs) :]  # swap maturities)\n",
    "        temp_freq = [4, 4, 2, 2, 2]  # swaps quotation\n",
    "\n",
    "        # We definde our fixed point function based on the formula on page 37 of lecture 1b\n",
    "        def fixed_point(x, swap, partial_sum, freq):\n",
    "            return 1 - ((swap * x) + (partial_sum * swap)) / freq\n",
    "\n",
    "        temp = []\n",
    "\n",
    "        # We solve the fixed point problem for each swap yield and store the solution in the vector temp\n",
    "        for i in range(len(temp_maturities)):\n",
    "            swap = swaps[i] / 100\n",
    "            # maturities of ZCBs for each swap cashflows\n",
    "            temp_list = frequencies[\n",
    "                : temp_maturities[i] * 4 + 1 : int(3 - (temp_freq[i] / 2))\n",
    "            ][1:-1]\n",
    "            # Sum of ZCBs\n",
    "            partial_sum = sum(\n",
    "                [\n",
    "                    np.exp(-integrate_ZCB(frequency, c, b, a, t))\n",
    "                    for frequency in temp_list\n",
    "                ]\n",
    "            )\n",
    "            # the expression int(3 - (temp_freq[i] / 2)) maps 1 to 4 and 2 to 2 to give the correct step\n",
    "            x = sp.optimize.fixed_point(\n",
    "                fixed_point, [1], (swap, partial_sum, temp_freq[i])\n",
    "            )[0]\n",
    "            temp.append(x)\n",
    "\n",
    "        # We then compare this result with the integration using the splines and add this condition to result\n",
    "        for i in range(n, m):\n",
    "            result.append(integrate_ZCB(t[i + 1], c, b, a, t) + np.log(temp[i - n]))\n",
    "\n",
    "        # endregion\n",
    "\n",
    "        return result\n",
    "\n",
    "    # region solving the equations\n",
    "\n",
    "    # Using fsolve to find the coefficients of the spline\n",
    "    interpolation = sp.optimize.fsolve(\n",
    "        tointerp, [1000] * 3 * m, args=([1] + ZCBs, [0] + t, swaps)\n",
    "    )\n",
    "\n",
    "    # Printing the result\n",
    "    l = int(len(interpolation) / 3)\n",
    "    print(\"Splines coefficients : \")\n",
    "    print(\"c : \")\n",
    "    print(interpolation[:l])\n",
    "    print(\"b : \")\n",
    "    print(interpolation[l : 2 * l])\n",
    "    print(\"a : \")\n",
    "    print(interpolation[2 * l : 3 * l])\n",
    "\n",
    "    # endregion\n",
    "\n",
    "    # region outputs\n",
    "\n",
    "    # Defining a function that takes as argument a linspace and returns the linspace truncated to the correct length\n",
    "    # and the image of our splines mapped to each x of the linspace. This way, we get x and y and can plot the term structure\n",
    "    def splines(freq):\n",
    "\n",
    "        c = interpolation[0:m]\n",
    "        b = interpolation[m : 2 * m]\n",
    "        a = interpolation[2 * m : 3 * m]\n",
    "\n",
    "        z = t + [100]\n",
    "        result = []\n",
    "        index = 0\n",
    "\n",
    "        for time in freq:\n",
    "            try:\n",
    "                if time < z[index]:\n",
    "                    result.append((c[index] * time**4) + (b[index] * time) + a[index])\n",
    "                else:\n",
    "                    index = index + 1\n",
    "                    result.append((c[index] * time**4) + (b[index] * time) + a[index])\n",
    "            except:\n",
    "                break\n",
    "        return freq[1 : len(result)], result[1:]\n",
    "\n",
    "    # f_result gives the price of a ZCB maturing at date x\n",
    "    def f_result(x):\n",
    "\n",
    "        c = list(interpolation[0:m])\n",
    "        b = list(interpolation[m : 2 * m])\n",
    "        a = list(interpolation[2 * m : 3 * m])\n",
    "\n",
    "        res = np.exp(-integrate_ZCB(x, c, b, a, [0] + t))\n",
    "\n",
    "        return res\n",
    "\n",
    "    # endregion\n",
    "\n",
    "    return splines, f_result"
   ]
  },
  {
   "cell_type": "code",
   "execution_count": 226,
   "id": "37a43967",
   "metadata": {},
   "outputs": [
    {
     "name": "stdout",
     "output_type": "stream",
     "text": [
      "Splines coefficients : \n",
      "c : \n",
      "[ 5.42405730e+00  5.78832452e-01 -1.82579929e-01  1.06705469e-02\n",
      "  4.91791559e-06 -3.77364145e-06 -2.46494686e-07  3.25664496e-08]\n",
      "b : \n",
      "[-2.90022026e-03  8.31557799e-03  5.59038518e-02 -4.07213862e-02\n",
      "  1.94112976e-03  2.87981793e-03  1.11624454e-03  4.73799799e-27]\n",
      "a : \n",
      "[0.0406     0.03989901 0.03097621 0.06721068 0.03521379 0.03310174\n",
      " 0.03971514 0.04808697]\n"
     ]
    },
    {
     "data": {
      "image/png": "[encoded data removed]",
      "text/plain": [
       "<Figure size 2000x500 with 1 Axes>"
      ]
     },
     "metadata": {},
     "output_type": "display_data"
    },
    {
     "data": {
      "image/png": "[encoded data removed]",
      "text/plain": [
       "<Figure size 640x480 with 1 Axes>"
      ]
     },
     "metadata": {},
     "output_type": "display_data"
    }
   ],
   "source": [
    "# Variables\n",
    "T = [1 / 12, 1 / 4, 1 / 2, 1, 3, 5, 10, 15]\n",
    "BBSW_ZCBs = ZCBs[0:3]\n",
    "swap = list(df_swap[\"Rate\"])\n",
    "\n",
    "# Functions of the forward curve and of the bond price for a given maturity\n",
    "forward_curve, ZCB_curve = spline_4th_order(T, BBSW_ZCBs, swap)\n",
    "\n",
    "xs, ys = forward_curve(np.linspace(0, 15, 1000))\n",
    "xss = np.linspace(0, 15, 1000)\n",
    "yss = [ZCB_curve(x) for x in xss]\n",
    "\n",
    "plt.figure(figsize=(20, 5))\n",
    "plt.plot(xs, ys, lw=1, color=\"black\")\n",
    "plt.title(\"Instantaneous forward rates term structure\")\n",
    "plt.show()\n",
    "plt.plot(xss, yss, lw=1, color=\"black\")\n",
    "plt.title(\"Zero-coupon bonds term structure\")\n",
    "plt.show()"
   ]
  },
  {
   "cell_type": "markdown",
   "id": "0e27b38f",
   "metadata": {},
   "source": [
    "<H2>Task 3:</H2>\n",
    "Consider a coupon bond with a principal of 100 and a coupon rate of 8% per annum, where the bond matures in exactly five years and the coupons are paid quarterly. Using the term structure that you derived in Task 1, what is the value of this bond? Similarly, using the term structure that you derived in Task 2, what is the value of this bond? <I>(1 mark)</I>"
   ]
  },
  {
   "cell_type": "code",
   "execution_count": 227,
   "id": "c89201f8",
   "metadata": {},
   "outputs": [
    {
     "name": "stdout",
     "output_type": "stream",
     "text": [
      "Value using Task 1 : $117.18 (117.1824274974974)\n",
      "Value using Task 2 : $117.19 (117.18980599957736)\n"
     ]
    }
   ],
   "source": [
    "cashflows = [2] * 19 + [102]\n",
    "payment_dates = [0.25 * (i + 1) for i in range(20)]\n",
    "\n",
    "ZCBs_Q1 = ZCBs[1:21]\n",
    "\n",
    "result_Task_1 = sum([cashflows[i] * ZCBs_Q1[i] for i in range(20)])\n",
    "\n",
    "result_Task_2 = sum([cashflows[i] * ZCB_curve(payment_dates[i]) for i in range(20)])\n",
    "\n",
    "print(f\"Value using Task 1 : ${round(result_Task_1, 2)} ({result_Task_1})\")\n",
    "print(f\"Value using Task 2 : ${round(result_Task_2, 2)} ({result_Task_2})\")"
   ]
  }
 ],
 "metadata": {
  "kernelspec": {
   "display_name": "Python 3",
   "language": "python",
   "name": "python3"
  },
  "language_info": {
   "codemirror_mode": {
    "name": "ipython",
    "version": 3
   },
   "file_extension": ".py",
   "mimetype": "text/x-python",
   "name": "python",
   "nbconvert_exporter": "python",
   "pygments_lexer": "ipython3",
   "version": "3.12.5"
  }
 },
 "nbformat": 4,
 "nbformat_minor": 5
}
